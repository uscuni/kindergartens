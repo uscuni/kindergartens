{
 "cells": [
  {
   "cell_type": "code",
   "execution_count": 2,
   "metadata": {},
   "outputs": [],
   "source": [
    "import pandas as pd"
   ]
  },
  {
   "cell_type": "code",
   "execution_count": 21,
   "metadata": {},
   "outputs": [],
   "source": [
    "skolky = pd.read_csv('adresar_skolky.csv')"
   ]
  },
  {
   "cell_type": "code",
   "execution_count": 5,
   "metadata": {},
   "outputs": [],
   "source": [
    "skolky_subset = skolky[['Plný název', 'WWW']]"
   ]
  },
  {
   "cell_type": "code",
   "execution_count": 6,
   "metadata": {},
   "outputs": [],
   "source": [
    "skolky_bez_www = skolky_subset[skolky_subset['WWW'].isnull()]"
   ]
  },
  {
   "cell_type": "code",
   "execution_count": 7,
   "metadata": {},
   "outputs": [],
   "source": [
    "skolky_s_www = skolky_subset[skolky_subset['WWW'].notnull()]"
   ]
  },
  {
   "cell_type": "code",
   "execution_count": 12,
   "metadata": {},
   "outputs": [
    {
     "name": "stdout",
     "output_type": "stream",
     "text": [
      "                                             Plný název  \\\n",
      "0                    Mateřská škola sv. Voršily v Praze   \n",
      "1                      Církevní mateřská škola Studánka   \n",
      "2     Modrý klíč - základní škola speciální a mateřs...   \n",
      "3                       Církevní mateřská škola Srdíčko   \n",
      "4     Bilingvální mateřská škola pro sluchově postiž...   \n",
      "...                                                 ...   \n",
      "5455                 Lesní mateřská škola sv. Františka   \n",
      "5457              Lesní mateřská škola Lesní děti, z.ú.   \n",
      "5458                  Lesní mateřská škola Malala, z.ú.   \n",
      "5460           Maple Bear mateřská škola Olomouc s.r.o.   \n",
      "5463  Mateřská škola Sedletín - Veselá, příspěvková ...   \n",
      "\n",
      "                                    WWW  \n",
      "0               https://mssvvorsily.cz/  \n",
      "1            http://www.cms-studanka.cz  \n",
      "2     https://www.webskoly.cz/modryklic  \n",
      "3            https://www.cms-srdicko.cz  \n",
      "4                   http://www.pipan.cz  \n",
      "...                                 ...  \n",
      "5455    http://www.pardubice.charita.cz  \n",
      "5457           https://www.lesnideti.cz  \n",
      "5458              https://www.malala.cz  \n",
      "5460  https://www.olomouc.maplebear.cz/  \n",
      "5463          http:/skolka-sedletin.cz/  \n",
      "\n",
      "[3821 rows x 2 columns]\n"
     ]
    }
   ],
   "source": [
    "print(skolky_s_www)"
   ]
  },
  {
   "cell_type": "code",
   "execution_count": 8,
   "metadata": {},
   "outputs": [
    {
     "name": "stderr",
     "output_type": "stream",
     "text": [
      "/var/folders/gl/6m73nrcs3yqd6q9dyxldg7th0000gn/T/ipykernel_82829/2204073469.py:4: SettingWithCopyWarning: \n",
      "A value is trying to be set on a copy of a slice from a DataFrame\n",
      "\n",
      "See the caveats in the documentation: https://pandas.pydata.org/pandas-docs/stable/user_guide/indexing.html#returning-a-view-versus-a-copy\n",
      "  skolky_s_www.loc[index, 'WWW'] = 'https://' + row['WWW']\n"
     ]
    },
    {
     "data": {
      "text/html": [
       "<div>\n",
       "<style scoped>\n",
       "    .dataframe tbody tr th:only-of-type {\n",
       "        vertical-align: middle;\n",
       "    }\n",
       "\n",
       "    .dataframe tbody tr th {\n",
       "        vertical-align: top;\n",
       "    }\n",
       "\n",
       "    .dataframe thead th {\n",
       "        text-align: right;\n",
       "    }\n",
       "</style>\n",
       "<table border=\"1\" class=\"dataframe\">\n",
       "  <thead>\n",
       "    <tr style=\"text-align: right;\">\n",
       "      <th></th>\n",
       "      <th>Plný název</th>\n",
       "      <th>WWW</th>\n",
       "    </tr>\n",
       "  </thead>\n",
       "  <tbody>\n",
       "    <tr>\n",
       "      <th>0</th>\n",
       "      <td>Mateřská škola sv. Voršily v Praze</td>\n",
       "      <td>https://mssvvorsily.cz/</td>\n",
       "    </tr>\n",
       "    <tr>\n",
       "      <th>1</th>\n",
       "      <td>Církevní mateřská škola Studánka</td>\n",
       "      <td>http://www.cms-studanka.cz</td>\n",
       "    </tr>\n",
       "    <tr>\n",
       "      <th>2</th>\n",
       "      <td>Modrý klíč - základní škola speciální a mateřs...</td>\n",
       "      <td>https://www.webskoly.cz/modryklic</td>\n",
       "    </tr>\n",
       "    <tr>\n",
       "      <th>3</th>\n",
       "      <td>Církevní mateřská škola Srdíčko</td>\n",
       "      <td>https://www.cms-srdicko.cz</td>\n",
       "    </tr>\n",
       "    <tr>\n",
       "      <th>4</th>\n",
       "      <td>Bilingvální mateřská škola pro sluchově postiž...</td>\n",
       "      <td>http://www.pipan.cz</td>\n",
       "    </tr>\n",
       "    <tr>\n",
       "      <th>...</th>\n",
       "      <td>...</td>\n",
       "      <td>...</td>\n",
       "    </tr>\n",
       "    <tr>\n",
       "      <th>5455</th>\n",
       "      <td>Lesní mateřská škola sv. Františka</td>\n",
       "      <td>http://www.pardubice.charita.cz</td>\n",
       "    </tr>\n",
       "    <tr>\n",
       "      <th>5457</th>\n",
       "      <td>Lesní mateřská škola Lesní děti, z.ú.</td>\n",
       "      <td>https://www.lesnideti.cz</td>\n",
       "    </tr>\n",
       "    <tr>\n",
       "      <th>5458</th>\n",
       "      <td>Lesní mateřská škola Malala, z.ú.</td>\n",
       "      <td>https://www.malala.cz</td>\n",
       "    </tr>\n",
       "    <tr>\n",
       "      <th>5460</th>\n",
       "      <td>Maple Bear mateřská škola Olomouc s.r.o.</td>\n",
       "      <td>https://www.olomouc.maplebear.cz/</td>\n",
       "    </tr>\n",
       "    <tr>\n",
       "      <th>5463</th>\n",
       "      <td>Mateřská škola Sedletín - Veselá, příspěvková ...</td>\n",
       "      <td>http:/skolka-sedletin.cz/</td>\n",
       "    </tr>\n",
       "  </tbody>\n",
       "</table>\n",
       "<p>3821 rows × 2 columns</p>\n",
       "</div>"
      ],
      "text/plain": [
       "                                             Plný název  \\\n",
       "0                    Mateřská škola sv. Voršily v Praze   \n",
       "1                      Církevní mateřská škola Studánka   \n",
       "2     Modrý klíč - základní škola speciální a mateřs...   \n",
       "3                       Církevní mateřská škola Srdíčko   \n",
       "4     Bilingvální mateřská škola pro sluchově postiž...   \n",
       "...                                                 ...   \n",
       "5455                 Lesní mateřská škola sv. Františka   \n",
       "5457              Lesní mateřská škola Lesní děti, z.ú.   \n",
       "5458                  Lesní mateřská škola Malala, z.ú.   \n",
       "5460           Maple Bear mateřská škola Olomouc s.r.o.   \n",
       "5463  Mateřská škola Sedletín - Veselá, příspěvková ...   \n",
       "\n",
       "                                    WWW  \n",
       "0               https://mssvvorsily.cz/  \n",
       "1            http://www.cms-studanka.cz  \n",
       "2     https://www.webskoly.cz/modryklic  \n",
       "3            https://www.cms-srdicko.cz  \n",
       "4                   http://www.pipan.cz  \n",
       "...                                 ...  \n",
       "5455    http://www.pardubice.charita.cz  \n",
       "5457           https://www.lesnideti.cz  \n",
       "5458              https://www.malala.cz  \n",
       "5460  https://www.olomouc.maplebear.cz/  \n",
       "5463          http:/skolka-sedletin.cz/  \n",
       "\n",
       "[3821 rows x 2 columns]"
      ]
     },
     "execution_count": 8,
     "metadata": {},
     "output_type": "execute_result"
    }
   ],
   "source": [
    "for index, row in skolky_s_www.iterrows():\n",
    "    if 'http' not in row['WWW']:\n",
    "       # add https to the beginning of the string\n",
    "         skolky_s_www.loc[index, 'WWW'] = 'https://' + row['WWW']\n",
    "\n",
    "skolky_s_www"
   ]
  },
  {
   "cell_type": "code",
   "execution_count": 9,
   "metadata": {},
   "outputs": [],
   "source": [
    "skolky_s_www.to_csv('input_skolky.csv')"
   ]
  },
  {
   "cell_type": "code",
   "execution_count": null,
   "metadata": {},
   "outputs": [],
   "source": []
  }
 ],
 "metadata": {
  "kernelspec": {
   "display_name": "default",
   "language": "python",
   "name": "python3"
  },
  "language_info": {
   "codemirror_mode": {
    "name": "ipython",
    "version": 3
   },
   "file_extension": ".py",
   "mimetype": "text/x-python",
   "name": "python",
   "nbconvert_exporter": "python",
   "pygments_lexer": "ipython3",
   "version": "3.12.5"
  }
 },
 "nbformat": 4,
 "nbformat_minor": 2
}
