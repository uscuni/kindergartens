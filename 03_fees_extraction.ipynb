{
 "cells": [
  {
   "cell_type": "code",
   "execution_count": 2,
   "metadata": {},
   "outputs": [],
   "source": [
    "import pandas as pd\n",
    "from glob import glob"
   ]
  },
  {
   "cell_type": "markdown",
   "metadata": {},
   "source": [
    "Split to sentences and use regex to extract the value."
   ]
  },
  {
   "cell_type": "code",
   "execution_count": 4,
   "metadata": {},
   "outputs": [],
   "source": [
    "import spacy\n",
    "import re\n",
    "\n",
    "# Define your fee extraction function\n",
    "def get_value_from_text(text_content):\n",
    "    nlp = spacy.blank(\"cs\")  # Replace with `spacy.load(\"cs\")` if Czech model is available.\n",
    "    nlp.max_length = 1_000_000_000  # Increase the max length limit\n",
    "    nlp.add_pipe('sentencizer')\n",
    "    \n",
    "    doc = nlp(text_content)\n",
    "    sentences = [sent.text for sent in doc.sents]\n",
    "    \n",
    "    # Filter sentences that contain the relevant phrases\n",
    "    relevant_sentences1 = [sentence for sentence in sentences if \"za měsíc\" in sentence.lower()]\n",
    "    relevant_sentences2 = [sentence for sentence in sentences if \"měsíčně\" in sentence.lower()]\n",
    "    relevant_sentences3 = [sentence for sentence in sentences if \"měsíční školné\" in sentence.lower()]\n",
    "    relevant_sentences4 = [sentence for sentence in sentences if \"měsíční poplatek\" in sentence.lower()]\n",
    "    relevant_sentences5 = [sentence for sentence in sentences if \"měsíční cena\" in sentence.lower()]\n",
    "    relevant_sentences6 = [sentence for sentence in sentences if \"/měsíc\" in sentence.lower()]\n",
    "    relevant_sentences7 = [sentence for sentence in sentences if \"úplata za\" in sentence.lower()]\n",
    "    relevant_sentences8 = [sentence for sentence in sentences if \"cena školného\" in sentence.lower()]\n",
    "\n",
    "\n",
    "    \n",
    "    # Combine all relevant sentences\n",
    "    relevant_sentences = relevant_sentences1 + relevant_sentences2 + relevant_sentences3 + relevant_sentences4 + relevant_sentences5 + relevant_sentences6 + relevant_sentences7 + relevant_sentences8\n",
    "    \n",
    "    # Define a regex pattern to extract the fee (number followed by \"Kč\")\n",
    "    fee_pattern = r\"(?<!\\d/)(\\b\\d{1,3}(?:[.,\\s]\\d{3})*(?:,-)?)\\s*(?:Kč)?\\b(?!/\\d)\"\n",
    "    \n",
    "    # Initialize an empty list to store all found fees\n",
    "    all_fees = []\n",
    "    \n",
    "    # Loop through relevant sentences and find all fees\n",
    "    for sentence in relevant_sentences:\n",
    "        matches = re.findall(fee_pattern, sentence)\n",
    "        if matches:\n",
    "            # Add the found fees to the list (cleaning them by removing spaces)\n",
    "            all_fees.extend([match.replace(\" \", \"\") for match in matches])\n",
    "    \n",
    "    # Return the list of all found fees, or None if no fees were found\n",
    "    return all_fees if all_fees else None\n",
    "\n"
   ]
  },
  {
   "cell_type": "code",
   "execution_count": 5,
   "metadata": {},
   "outputs": [],
   "source": [
    "import spacy\n",
    "import re\n",
    "\n",
    "# Define your fee extraction function\n",
    "def get_sentence_from_text(text_content):\n",
    "    nlp = spacy.blank(\"cs\")  # Replace with `spacy.load(\"cs\")` if Czech model is available.\n",
    "    nlp.max_length = 1_000_000_000  # Increase the max length limit\n",
    "    nlp.add_pipe('sentencizer')\n",
    "    \n",
    "    doc = nlp(text_content)\n",
    "    sentences = [sent.text for sent in doc.sents]\n",
    "    \n",
    "    # Filter sentences that contain the relevant phrases\n",
    "    relevant_sentences1 = [sentence for sentence in sentences if \"za měsíc\" in sentence.lower()]\n",
    "    relevant_sentences2 = [sentence for sentence in sentences if \"měsíčně\" in sentence.lower()]\n",
    "    relevant_sentences3 = [sentence for sentence in sentences if \"měsíční školné\" in sentence.lower()]\n",
    "    relevant_sentences4 = [sentence for sentence in sentences if \"měsíční poplatek\" in sentence.lower()]\n",
    "    relevant_sentences5 = [sentence for sentence in sentences if \"měsíční cena\" in sentence.lower()]\n",
    "    relevant_sentences6 = [sentence for sentence in sentences if \"/měsíc\" in sentence.lower()]\n",
    "    relevant_sentences7 = [sentence for sentence in sentences if \"úplata za\" in sentence.lower()]\n",
    "    relevant_sentences8 = [sentence for sentence in sentences if \"cena školného\" in sentence.lower()]\n",
    "\n",
    "\n",
    "    \n",
    "    # Combine all relevant sentences\n",
    "    relevant_sentences = relevant_sentences1 + relevant_sentences2 + relevant_sentences3 + relevant_sentences4 + relevant_sentences5 + relevant_sentences6 + relevant_sentences7 + relevant_sentences8\n",
    "    \n",
    "    \n",
    "    # Define a regex pattern to extract the fee (number followed by \"Kč\")\n",
    "    fee_pattern = r\"(?<!\\d/)(\\b\\d{1,3}(?:[.,\\s]\\d{3})*(?:,-)?)\\s*(?:Kč)?\\b(?!/\\d)\"\n",
    "    \n",
    "    # Initialize a list to store tuples of (fee, sentence)\n",
    "    fees_and_sentences = []\n",
    "    \n",
    "    # Loop through relevant sentences and find all fees\n",
    "    for sentence in relevant_sentences:\n",
    "        matches = re.findall(fee_pattern, sentence)\n",
    "        if matches:\n",
    "            # Store the fee along with the sentence it was found in\n",
    "            for match in matches:\n",
    "                cleaned_fee = match.replace(\" \", \"\")  # Clean the fee by removing spaces\n",
    "                fees_and_sentences.append((cleaned_fee, sentence.strip()))  # Store fee and sentence\n",
    "    \n",
    "    # Return the list of fees and sentences, or None if no fees were found\n",
    "    return fees_and_sentences if fees_and_sentences else None\n",
    "\n",
    "\n"
   ]
  },
  {
   "cell_type": "code",
   "execution_count": 4,
   "metadata": {},
   "outputs": [
    {
     "data": {
      "text/plain": [
       "['/Users/annabrazdova/default/kindergartens/01_text_skolky/extracted_text_0.csv',\n",
       " '/Users/annabrazdova/default/kindergartens/01_text_skolky/extracted_text_1.csv',\n",
       " '/Users/annabrazdova/default/kindergartens/01_text_skolky/extracted_text_3.csv',\n",
       " '/Users/annabrazdova/default/kindergartens/01_text_skolky/extracted_text_2.csv',\n",
       " '/Users/annabrazdova/default/kindergartens/01_text_skolky/extracted_text_6.csv',\n",
       " '/Users/annabrazdova/default/kindergartens/01_text_skolky/extracted_text_5.csv',\n",
       " '/Users/annabrazdova/default/kindergartens/01_text_skolky/extracted_text_4.csv']"
      ]
     },
     "execution_count": 4,
     "metadata": {},
     "output_type": "execute_result"
    }
   ],
   "source": [
    "files = glob(\"/Users/annabrazdova/default/kindergartens/01_text_skolky/*.csv\")\n",
    "files\n"
   ]
  },
  {
   "cell_type": "code",
   "execution_count": null,
   "metadata": {},
   "outputs": [],
   "source": [
    "dfs=[]\n",
    "for file in files:\n",
    "    df = pd.read_csv(file, index_col=0)\n",
    "    dfs.append(df)\n"
   ]
  },
  {
   "cell_type": "code",
   "execution_count": null,
   "metadata": {},
   "outputs": [],
   "source": [
    "for i, df in enumerate(dfs):\n",
    "    # Apply the function to the 'text' column and create a new column 'fee'\n",
    "    df['fee'] = df['text'].apply(get_value_from_text)\n",
    "    \n",
    "    # Apply the function to the 'text' column and create a new column 'fee_sentence'\n",
    "    df['sentence'] = df['text'].apply(get_sentence_from_text)\n",
    "    \n",
    "    no_fee = df[df['sentence'].isnull()]\n",
    "    fee = df[~df['sentence'].notnull()]\n",
    "\n",
    "\n",
    "    no_fee.to_csv(f\"/Users/annabrazdova/default/kindergartens/02_no_skolky/no_fee_{i}.csv\", index=False)\n",
    "    fee.to_csv(f\"/Users/annabrazdova/default/kindergartens/02_no_skolky/fee_{i}.csv\", index=False)\n"
   ]
  }
 ],
 "metadata": {
  "kernelspec": {
   "display_name": "default",
   "language": "python",
   "name": "python3"
  },
  "language_info": {
   "codemirror_mode": {
    "name": "ipython",
    "version": 3
   },
   "file_extension": ".py",
   "mimetype": "text/x-python",
   "name": "python",
   "nbconvert_exporter": "python",
   "pygments_lexer": "ipython3",
   "version": "3.12.5"
  }
 },
 "nbformat": 4,
 "nbformat_minor": 2
}
